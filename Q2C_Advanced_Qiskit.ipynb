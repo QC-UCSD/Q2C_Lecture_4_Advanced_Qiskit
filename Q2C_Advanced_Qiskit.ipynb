{
  "nbformat": 4,
  "nbformat_minor": 0,
  "metadata": {
    "colab": {
      "provenance": [],
      "toc_visible": true
    },
    "kernelspec": {
      "name": "python3",
      "display_name": "Python 3"
    },
    "language_info": {
      "name": "python"
    }
  },
  "cells": [
    {
      "cell_type": "markdown",
      "source": [
        "# Q to C Lecture 4: Advanced Qiskit 03/01/2023"
      ],
      "metadata": {
        "id": "bZGSFEwdTRMN"
      }
    },
    {
      "cell_type": "markdown",
      "source": [
        "###Part 0: Import Qiskit"
      ],
      "metadata": {
        "id": "c8Kd63N1bRdq"
      }
    },
    {
      "cell_type": "code",
      "source": [
        "pip install qiskit"
      ],
      "metadata": {
        "id": "pDmNormifZGR"
      },
      "execution_count": null,
      "outputs": []
    },
    {
      "cell_type": "code",
      "execution_count": null,
      "metadata": {
        "id": "Fkz2vB9Ba6k6"
      },
      "outputs": [],
      "source": [
        "import numpy as np\n",
        "\n",
        "# Importing standard Qiskit libraries\n",
        "from qiskit import QuantumCircuit, execute, IBMQ\n",
        "from qiskit.exceptions import QiskitError\n",
        "from qiskit.providers.ibmq import least_busy\n",
        "from qiskit.tools.jupyter import *\n",
        "from qiskit.visualization import *\n",
        "\n",
        "# We are using this library to suppress some warning messages\n",
        "import warnings\n",
        "warnings.filterwarnings(\"ignore\")\n",
        "\n",
        "# Loading your IBM Quantum account(s)\n",
        "provider = IBMQ.load_account()\n",
        "# Or, if you want to run locally run the line below\n",
        "# provider = IBMQ.enable_account('TOKEN')"
      ]
    },
    {
      "cell_type": "markdown",
      "source": [
        "###Part 1: Simulators, Quantum Computers, and Histograms"
      ],
      "metadata": {
        "id": "JDtUurtdlhsZ"
      }
    },
    {
      "cell_type": "markdown",
      "source": [
        "####1.1 - 2-qubit Entangled Circuit (Individual)\n",
        "\n",
        "Create a quantum circuit `qc` with 2 qubits and 2 classical bits. Add an H gate to the 0th qubit, and a CNOT with the 0th qubit as the control. Then measure both qubits using `qc.measure([0, 1], [0, 1])` or `qc.measure_all()`, and finally draw it. \n",
        "\n",
        "After drawing the circuit, run the code below using the QASM simulator. Vary the number of shots and notice how the output changes."
      ],
      "metadata": {
        "id": "TEW9-zbllmII"
      }
    },
    {
      "cell_type": "code",
      "source": [
        "# YOUR CODE HERE"
      ],
      "metadata": {
        "id": "qfqyC404miGp"
      },
      "execution_count": null,
      "outputs": []
    },
    {
      "cell_type": "code",
      "source": [
        "# QASM Simulator code\n",
        "sim = provider.get_backend('ibmq_qasm_simulator')\n",
        "\n",
        "# Vary this nuber and see the effect\n",
        "shots = 1024\n",
        "\n",
        "job = execute(<name_of_your_qc>, backend=sim, shots=shots)\n",
        "\n",
        "result = job.result()\n",
        "plot_histogram(result.get_counts())"
      ],
      "metadata": {
        "id": "wAesBFiQQR8-"
      },
      "execution_count": null,
      "outputs": []
    },
    {
      "cell_type": "markdown",
      "source": [
        "####1.2 - Big Histograms (Individual)\n",
        "\n",
        "Create a quantum circuit `qc` with 16 qubits and 16 classical bits. Add an H gate to the even qubits, and a CNOT between neighboring qubits (i.e. 0 to 1, 1 to 2, etc). Then draw the circuit. \n",
        "\n",
        "Again, after drawing the circuit, run the code blow using the QASM simulator. Using Histograms to visualize the output can be incredibly useful for analyzing circuits... but they can also become too complicated to read."
      ],
      "metadata": {
        "id": "uZpMADpfodhg"
      }
    },
    {
      "cell_type": "code",
      "source": [
        "# YOUR CODE HERE"
      ],
      "metadata": {
        "id": "2BTw_NRNpCqp"
      },
      "execution_count": null,
      "outputs": []
    },
    {
      "cell_type": "code",
      "source": [
        "# QASM Simulator code\n",
        "sim = provider.get_backend('ibmq_qasm_simulator')\n",
        "\n",
        "# For simple circuits, 1000 shots is fine. This circuit is so large (so many \n",
        "#  possible outputs) that we'll need more like 10000.\n",
        "job = execute(<name_of_your_qc>, backend=sim, shots=10000)\n",
        "\n",
        "result = job.result()\n",
        "counts = result.get_counts()\n",
        "\n",
        "plot_histogram(counts)"
      ],
      "metadata": {
        "id": "yy1tAzpFpIUs"
      },
      "execution_count": null,
      "outputs": []
    },
    {
      "cell_type": "markdown",
      "source": [
        "####1.3 - Real QCs (Individual)\n",
        "\n",
        "Recreate the quantum circuit `qc` from part 1.3, except this time use only 4 qubits and 4 classical bits. First run the circuit using QASM, then run the circuit on a real quantum computer using the code below. Notice the difference between the simulated and real QC output.\n",
        "\n",
        "Hint: Due to the high demand for QC compute time, we've provided code that should make it faster to get your job onto a real qc. You could choose to do this manually using `provider.backends()` as we discussed in the slides."
      ],
      "metadata": {
        "id": "LzDUvv9QpMSW"
      }
    },
    {
      "cell_type": "code",
      "source": [
        "# YOUR CODE HERE"
      ],
      "metadata": {
        "id": "tVTAPg0L97vk"
      },
      "execution_count": null,
      "outputs": []
    },
    {
      "cell_type": "code",
      "source": [
        "# QASM Simulator code\n",
        "sim = provider.get_backend('ibmq_qasm_simulator')\n",
        "\n",
        "# Since the circuit is fairly simple (and to save time on the real QC) we'll use\n",
        "#  ~1000 shots.\n",
        "job = execute(<name_of_your_qc>, backend=sim, shots=1024)\n",
        "\n",
        "result = job.result()\n",
        "counts = result.get_counts()\n",
        "\n",
        "plot_histogram(counts)"
      ],
      "metadata": {
        "id": "DyjeiMEWqCFo"
      },
      "execution_count": null,
      "outputs": []
    },
    {
      "cell_type": "code",
      "source": [
        "# Real QC code\n",
        "small_devices = provider.backends(filters=lambda x: x.configuration().n_qubits \n",
        "                                  >= 4 and not x.configuration().simulator)\n",
        "device = least_busy(small_devices)\n",
        "\n",
        "# Vary this number a couple times, maybe in separate cells. What do you notice \n",
        "#  about how the error rates change with different number of shots?\n",
        "shots = 1024\n",
        "\n",
        "job = execute(<name_of_your_qc>, backend=device, shots=1024)\n",
        "\n",
        "result = job.result()\n",
        "counts = result.get_counts()\n",
        "\n",
        "plot_histogram(counts)"
      ],
      "metadata": {
        "id": "dQESZdtI7TKO"
      },
      "execution_count": null,
      "outputs": []
    },
    {
      "cell_type": "markdown",
      "source": [
        "####1.4 - More on Error: \"Adding\" two bits (Individual)\n",
        "Lets add two bits together (1 and 0) and compare what we get on a classical computer to a quantum computer. Mathematically, we would expect 01 100% of the time."
      ],
      "metadata": {
        "id": "rEF4fv5_nyYq"
      }
    },
    {
      "cell_type": "code",
      "source": [
        "# YOUR CODE HERE"
      ],
      "metadata": {
        "id": "VT92MfSenssB"
      },
      "execution_count": null,
      "outputs": []
    },
    {
      "cell_type": "code",
      "source": [
        "# QASM Simulator code\n",
        "sim = provider.get_backend('ibmq_qasm_simulator')\n",
        "job = execute(<name_of_your_qc>, backend=sim, shots=1024)\n",
        "\n",
        "result = job.result()\n",
        "counts = result.get_counts()\n",
        "\n",
        "plot_histogram(counts)"
      ],
      "metadata": {
        "id": "Cz38Wy3HoCUa"
      },
      "execution_count": null,
      "outputs": []
    },
    {
      "cell_type": "code",
      "source": [
        "# Real QC code\n",
        "small_devices = provider.backends(filters=lambda x: x.configuration().n_qubits \n",
        "                                  >= 4 and not x.configuration().simulator)\n",
        "device = least_busy(small_devices)\n",
        "job = execute(<name_of_your_qc>, backend=device, shots=1024)\n",
        "\n",
        "result = job.result()\n",
        "counts = result.get_counts()\n",
        "\n",
        "plot_histogram(counts)"
      ],
      "metadata": {
        "id": "F4UYxaHBoWuH"
      },
      "execution_count": null,
      "outputs": []
    },
    {
      "cell_type": "markdown",
      "source": [
        "We'll run this again using a circuit with many more X gates. We might expect that applying more gates means we would get a larger error – and this is true – but in some cases (like this case here) Qiskit is smart enough to decode this circuit into the simple one above."
      ],
      "metadata": {
        "id": "w0SKwkRDqVPp"
      }
    },
    {
      "cell_type": "code",
      "source": [
        "# YOUR CODE HERE"
      ],
      "metadata": {
        "id": "GJBH2UR_osaL"
      },
      "execution_count": null,
      "outputs": []
    },
    {
      "cell_type": "code",
      "source": [
        "# QASM Simulator code\n",
        "sim = provider.get_backend('ibmq_qasm_simulator')\n",
        "job = execute(<name_of_your_qc>, backend=sim, shots=1024)\n",
        "\n",
        "result = job.result()\n",
        "counts = result.get_counts()\n",
        "\n",
        "plot_histogram(counts)"
      ],
      "metadata": {
        "id": "MfAsTz9apS2j"
      },
      "execution_count": null,
      "outputs": []
    },
    {
      "cell_type": "code",
      "source": [
        "# Real QC code\n",
        "small_devices = provider.backends(filters=lambda x: x.configuration().n_qubits \n",
        "                                  >= 4 and not x.configuration().simulator)\n",
        "device = least_busy(small_devices)\n",
        "job = execute(<name_of_your_qc>, backend=device, shots=1024)\n",
        "\n",
        "result = job.result()\n",
        "counts = result.get_counts()\n",
        "\n",
        "plot_histogram(counts)"
      ],
      "metadata": {
        "id": "V8r-wcEIpU56"
      },
      "execution_count": null,
      "outputs": []
    },
    {
      "cell_type": "markdown",
      "source": [
        "From here, you're fully prepared to do some interesting things in Qiskit! As we move back into the slides we'll talk more about two other ways to do more advanced things: 1) Using Qiskit's built-in algorithms, and 2) Variational Quantum Circuits.\n",
        "\n",
        "1) Qiskit's built-in algorithms are easy to use, you just look up an algorithm you want and (if they have it implemented) its a simple function-call or two. No circtui-building necessary. \n",
        "\n",
        "This is what you should be doing if possible, their circuits are better ad faster than any implementation we could create.\n",
        "\n",
        "2) Variational Quantum Circuits (VQCs) are much trickier, and come into play when Qiskit does NOT have an implementation of an algorithm you need. Understanding VQCs is a atter of understanding lectures 3 and 4, as well as knowing some machine learning.\n",
        "\n",
        "If you feel ready, we encourage you to try out VQCs as its actually how everyone codes up quantum circuits now. In the future, we'll hopefully have an event dedicated to teaching VQCs.\n",
        "\n",
        "\n",
        "For now, thanks for sticking through our lectures to the end, and congrats on being a quantum programmer! (You can add that to your linkedin.)"
      ],
      "metadata": {
        "id": "dDFdhWZ9_reu"
      }
    }
  ]
}